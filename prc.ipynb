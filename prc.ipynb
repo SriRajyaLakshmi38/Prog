{
  "nbformat": 4,
  "nbformat_minor": 0,
  "metadata": {
    "colab": {
      "provenance": [],
      "authorship_tag": "ABX9TyMZiRAOjCVbj+ht61iWyOYg",
      "include_colab_link": true
    },
    "kernelspec": {
      "name": "python3",
      "display_name": "Python 3"
    },
    "language_info": {
      "name": "python"
    }
  },
  "cells": [
    {
      "cell_type": "markdown",
      "metadata": {
        "id": "view-in-github",
        "colab_type": "text"
      },
      "source": [
        "<a href=\"https://colab.research.google.com/github/SriRajyaLakshmi38/Prog/blob/main/prc.ipynb\" target=\"_parent\"><img src=\"https://colab.research.google.com/assets/colab-badge.svg\" alt=\"Open In Colab\"/></a>"
      ]
    },
    {
      "cell_type": "code",
      "source": [
        "a = 10\n",
        "b = 30\n",
        "print(a+b, b*a)"
      ],
      "metadata": {
        "colab": {
          "base_uri": "https://localhost:8080/"
        },
        "id": "CUG1UMdz1PJ_",
        "outputId": "bca8a65c-26cb-46a1-8d37-f05daf68474f"
      },
      "execution_count": null,
      "outputs": [
        {
          "output_type": "stream",
          "name": "stdout",
          "text": [
            "40 300\n"
          ]
        }
      ]
    },
    {
      "cell_type": "code",
      "source": [
        "N = int(input())\n",
        "if N%2 == 0:\n",
        "    print(\"even\")\n",
        "else:\n",
        "    print(\"odd\")"
      ],
      "metadata": {
        "id": "BMDPyWvO3DMt",
        "colab": {
          "base_uri": "https://localhost:8080/"
        },
        "outputId": "e377f3cf-1e19-4e1b-c309-b67bc736baae"
      },
      "execution_count": null,
      "outputs": [
        {
          "output_type": "stream",
          "name": "stdout",
          "text": [
            "24\n",
            "even\n"
          ]
        }
      ]
    },
    {
      "cell_type": "code",
      "source": [
        "year = int(input())\n",
        "if(year%4 == 0 and year%100 != 0) or (year%400 == 0):\n",
        "    print(\"yes\")\n",
        "else:\n",
        "    print(\"no\")"
      ],
      "metadata": {
        "id": "5OI4Triv46F1"
      },
      "execution_count": null,
      "outputs": []
    },
    {
      "cell_type": "code",
      "source": [
        "grade = int(input())\n",
        "if(grade>= 95):\n",
        "  print('Ex')\n",
        "elif(grade>=90 and grade< 95):\n",
        "  print('A+')\n",
        "elif(grade>=85 and grade< 90):\n",
        "   print(\"A\")\n",
        "elif(grade>=80 and grade< 85):\n",
        "  print(\"B+\")\n",
        "elif(grade>=75 and grade< 80):\n",
        "  print(\"B\")\n",
        "elif(grade>=70 and grade< 75):\n",
        "  print(\"C\")\n",
        "else:\n",
        "  print(\"F\")\n"
      ],
      "metadata": {
        "colab": {
          "base_uri": "https://localhost:8080/"
        },
        "id": "mWYhg6WJ2g8c",
        "outputId": "690fd3cd-20a2-408e-e029-eec395b4163e"
      },
      "execution_count": null,
      "outputs": [
        {
          "output_type": "stream",
          "name": "stdout",
          "text": [
            "90\n",
            "A+\n"
          ]
        }
      ]
    },
    {
      "cell_type": "code",
      "source": [
        "str = input()\n",
        "n = int(input(\"Enter a num:\"))\n",
        "c = 0\n",
        "for i in range(0,n):\n",
        "  c +=1\n",
        "  if(c<=n):\n",
        "    print(str)\n"
      ],
      "metadata": {
        "colab": {
          "base_uri": "https://localhost:8080/"
        },
        "id": "QHSXZY9S5HiH",
        "outputId": "27e4257e-23bc-483f-b004-8c50849e43e1"
      },
      "execution_count": null,
      "outputs": [
        {
          "output_type": "stream",
          "name": "stdout",
          "text": [
            "f\n",
            "Enter a num:1\n",
            "f\n"
          ]
        }
      ]
    },
    {
      "cell_type": "code",
      "source": [
        "a = input(\"enter the val1:\")\n",
        "b = input(\"enter the val2:\")\n",
        "a,b = b,a\n",
        "temp = a\n",
        "a = b\n",
        "b = temp\n",
        "print(a,b)\n"
      ],
      "metadata": {
        "colab": {
          "base_uri": "https://localhost:8080/"
        },
        "id": "r5ZhKzdL9frZ",
        "outputId": "d6d2480b-99c4-47e3-de01-20b61f0e61da"
      },
      "execution_count": null,
      "outputs": [
        {
          "output_type": "stream",
          "name": "stdout",
          "text": [
            "enter the val1:1\n",
            "enter the val2:2\n",
            "1 2\n"
          ]
        }
      ]
    },
    {
      "cell_type": "code",
      "source": [
        "str = input()\n",
        "length = 0\n",
        "for i in str:\n",
        "  length +=1\n",
        "print(length)\n",
        "print(len(str))"
      ],
      "metadata": {
        "colab": {
          "base_uri": "https://localhost:8080/"
        },
        "id": "qoIPoQujAS2k",
        "outputId": "9c8b3f0b-55fb-48d0-87cb-9948c14e1df3"
      },
      "execution_count": null,
      "outputs": [
        {
          "output_type": "stream",
          "name": "stdout",
          "text": [
            "asdfghj\n",
            "7\n",
            "7\n"
          ]
        }
      ]
    },
    {
      "cell_type": "code",
      "source": [
        "s = {1,2,3,4,5}\n",
        "sum = 0\n",
        "for i in s:\n",
        "  sum +=i\n",
        "print(sum/len(s))\n",
        "\n"
      ],
      "metadata": {
        "colab": {
          "base_uri": "https://localhost:8080/"
        },
        "id": "9kT_zNxkA8VD",
        "outputId": "5d355769-164d-4acf-966a-b27e159a77ca"
      },
      "execution_count": null,
      "outputs": [
        {
          "output_type": "stream",
          "name": "stdout",
          "text": [
            "3.0\n"
          ]
        }
      ]
    },
    {
      "cell_type": "code",
      "source": [
        "set1= {1,2,3,4,5}\n",
        "n = input()\n",
        "for i in set1:\n",
        "  if(n ==i):\n",
        "    print(n)\n",
        "if n not in set1:\n",
        "    print(\"not found\")\n"
      ],
      "metadata": {
        "colab": {
          "base_uri": "https://localhost:8080/"
        },
        "id": "A-vUwoK5IqNX",
        "outputId": "db51328d-af87-47e6-a89c-0568253aa7bd"
      },
      "execution_count": null,
      "outputs": [
        {
          "output_type": "stream",
          "name": "stdout",
          "text": [
            "7\n",
            "not found\n"
          ]
        }
      ]
    },
    {
      "cell_type": "code",
      "source": [
        "volcost = input()\n",
        "v = \" \"\n",
        "c = []\n",
        "for i in volcost:\n",
        "  if i == \" \" or i == 0 or i == 1 or i==2 or i==3 or i==4 or i==5 or i==6 or i==7 or i==8 or i==9:\n",
        "    continue\n",
        "  elif i == \"a\"  or i == \"e\" or i == \"i\" or i == \"o\" or i == \"u\" or i == \"A\" or i == \"E\" or i == \"I\" or i == \"O\" or i == \"U\":\n",
        "    v +=i\n",
        "  else:\n",
        "    c.append(i)\n",
        "    #c.sort()\n",
        "print(\"Vowles are:\" , v)\n",
        "print(\"Consts are:\", c)\n",
        "\n",
        "\n",
        "\n",
        "\n",
        "for i in volcost:\n",
        "    if i == \" \" or i.isdigit():\n",
        "        continue\n",
        "    elif i in \"aeiouAEIOU\":  # Check if the character is a vowel\n",
        "        v += i\n",
        "    else:\n",
        "        c.append(i)\n",
        "print(\"Vowles are:\" , v)\n",
        "print(\"Consts are:\", c)\n"
      ],
      "metadata": {
        "colab": {
          "base_uri": "https://localhost:8080/"
        },
        "id": "RxoglsAjI1t3",
        "outputId": "c0ce5238-ce94-4dcc-e19d-747422cd3634"
      },
      "execution_count": null,
      "outputs": [
        {
          "output_type": "stream",
          "name": "stdout",
          "text": [
            "ht a1 3\n",
            "Vowles are:  a\n",
            "Consts are: ['h', 't', '1', '3']\n",
            "Vowles are:  aa\n",
            "Consts are: ['h', 't', '1', '3', 'h', 't']\n"
          ]
        }
      ]
    },
    {
      "cell_type": "code",
      "source": [
        "C = float(input())\n",
        "F = C*(9/5)+32\n",
        "print(F)"
      ],
      "metadata": {
        "colab": {
          "base_uri": "https://localhost:8080/"
        },
        "id": "5oLaYFOFNC1m",
        "outputId": "7258bc86-00b9-4cbd-8eb3-bb00217ddff0"
      },
      "execution_count": null,
      "outputs": [
        {
          "output_type": "stream",
          "name": "stdout",
          "text": [
            "35.5\n",
            "95.9\n"
          ]
        }
      ]
    },
    {
      "cell_type": "code",
      "source": [
        "a = int(input())\n",
        "b = int(input())\n",
        "print(a**b)"
      ],
      "metadata": {
        "colab": {
          "base_uri": "https://localhost:8080/"
        },
        "id": "j4zASOMKQyeg",
        "outputId": "1db5a0cc-5c79-4ff3-e614-51351175a2b8"
      },
      "execution_count": null,
      "outputs": [
        {
          "output_type": "stream",
          "name": "stdout",
          "text": [
            "9\n",
            "0\n",
            "1\n"
          ]
        }
      ]
    },
    {
      "cell_type": "code",
      "source": [
        "n = int(input())\n",
        "for i in range(0,n+1):\n",
        "  print(i)"
      ],
      "metadata": {
        "colab": {
          "base_uri": "https://localhost:8080/"
        },
        "id": "JBP55Eb_RPtZ",
        "outputId": "73e90071-a418-4cd0-bf4f-5af7098e2389"
      },
      "execution_count": null,
      "outputs": [
        {
          "output_type": "stream",
          "name": "stdout",
          "text": [
            "40\n",
            "0\n",
            "1\n",
            "2\n",
            "3\n",
            "4\n",
            "5\n",
            "6\n",
            "7\n",
            "8\n",
            "9\n",
            "10\n",
            "11\n",
            "12\n",
            "13\n",
            "14\n",
            "15\n",
            "16\n",
            "17\n",
            "18\n",
            "19\n",
            "20\n",
            "21\n",
            "22\n",
            "23\n",
            "24\n",
            "25\n",
            "26\n",
            "27\n",
            "28\n",
            "29\n",
            "30\n",
            "31\n",
            "32\n",
            "33\n",
            "34\n",
            "35\n",
            "36\n",
            "37\n",
            "38\n",
            "39\n",
            "40\n"
          ]
        }
      ]
    },
    {
      "cell_type": "code",
      "source": [
        "n = int(input())\n",
        "l = []\n",
        "for i in range(2,n+1):\n",
        "  if i%2 == 0:\n",
        "    l.append(i)\n",
        "print(l)"
      ],
      "metadata": {
        "colab": {
          "base_uri": "https://localhost:8080/"
        },
        "id": "QOarYgJlSHMs",
        "outputId": "e1ab9b37-236a-4cee-fb86-603b6cda4572"
      },
      "execution_count": null,
      "outputs": [
        {
          "output_type": "stream",
          "name": "stdout",
          "text": [
            "12\n",
            "[2, 4, 6, 8, 10, 12]\n"
          ]
        }
      ]
    },
    {
      "cell_type": "code",
      "source": [
        "s = input()\n",
        "r = s[::-1]\n",
        "print(r)\n",
        "re = s[len(s)::-1]\n",
        "print(re)\n",
        "for i in range(len(s)-1,-1,-1):\n",
        "  print(s[i],end=\"\")\n"
      ],
      "metadata": {
        "colab": {
          "base_uri": "https://localhost:8080/"
        },
        "id": "MB8HgaShVeyI",
        "outputId": "94cfe80d-566c-4eba-b6b6-6d9af5d519f1"
      },
      "execution_count": null,
      "outputs": [
        {
          "output_type": "stream",
          "name": "stdout",
          "text": [
            "gd\n",
            "dg\n",
            "dg\n",
            "dg"
          ]
        }
      ]
    },
    {
      "cell_type": "markdown",
      "source": [
        "Find the given number is prime or not? Find the sum of digits for a given number?"
      ],
      "metadata": {
        "id": "EQA-GASlX2Rw"
      }
    },
    {
      "cell_type": "code",
      "source": [
        "p = input()\n",
        "c = 1\n"
      ],
      "metadata": {
        "id": "R4UZSF-lWET6"
      },
      "execution_count": null,
      "outputs": []
    }
  ]
}